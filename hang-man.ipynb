{
 "metadata": {
  "language_info": {
   "codemirror_mode": {
    "name": "ipython",
    "version": 3
   },
   "file_extension": ".py",
   "mimetype": "text/x-python",
   "name": "python",
   "nbconvert_exporter": "python",
   "pygments_lexer": "ipython3",
   "version": "3.8.5-final"
  },
  "orig_nbformat": 2,
  "kernelspec": {
   "name": "python3",
   "display_name": "Python 3",
   "language": "python"
  }
 },
 "nbformat": 4,
 "nbformat_minor": 2,
 "cells": [
  {
   "cell_type": "code",
   "execution_count": null,
   "metadata": {},
   "outputs": [],
   "source": [
    "random_word_list = [\"bag\",\"dog\",\"cat\",\"man\",\"woman\",\"bike\",\"car\",\"monster\",\"america\",\"princess\",\"pizza\",\"antidote\",\"potion\",\"blanket\",\"swim\",\"princess\",\"king\",\"elf\", 'ballon', \"texas\",\"washington\",\"california\",\"texas\",\"florida\",\"new york\",\"elephant\",\"tiger\",\"snake\",\"lion\",\"honda\",\"tower\", \"grass\", \"pink\",\"blue\",\"ocean\", \"television\",\"monarch\", \"coffee\", \"toaster\", \"pajamas\", \"macintosh\", \"microsoft\", \"variables\",\"functions\", \"datastructures\", \"algorithms\", \"loops\", \"string\", \"tires\", \"tacos\", \"spain\", \"mexico\",\"europe\",\"tokyo\", \"president\", \"google\", \"death\", \"life\", \"apple\",\"strawberry\", \"orange\", \"jupiter\", \"mars\", \"earth\", \"moon\", \"truck\",\"motorcycle\",\"turtle\", \"yellow\", \"snake\", \"horse\",\"nike\", \"rose\",\"spaghetti\", \"salad\", \"steak\", \"duck\", \"carpet\", \"testosterone\", \"feminine\",\"strong\",\"book\", \"dictionary\",\"toe\", \"foot\", \"banana\", \"iphone\", \"irrigation\", \"kids\", \"teenager\", \"donut\", \"panda\",\"voice\",\"family\",\"football\", \"soccer\", \"tennis\", \"thanksgiving\", \"diaper\", \"ninja\", \"green\", \"netflix\", \"hulu\", \"grandma\", \"wonderful\"]\n",
    "\n",
    "\n",
    "\n",
    "\n",
    "\n",
    "\n",
    "\n"
   ]
  },
  {
   "cell_type": "code",
   "execution_count": 57,
   "metadata": {},
   "outputs": [
    {
     "output_type": "stream",
     "name": "stdout",
     "text": [
      "   O --- \n ~-|-~ |\n _/ \\_ | \n      _|_  RIP KO!\n"
     ]
    }
   ],
   "source": [
    "word = \"banana\"\n",
    "printed_word = [_] * len(word)\n",
    "body = []\n",
    "body_parts = [\"O\", \"|\", \"/\", \"/\",\"~-\",\"-~\" ]\n",
    "body_parts_len = len(body_parts)\n",
    "stick_figure = \"   O --- \\n ~-|-~ |\\n _/ \\_ | \\n      _|_  RIP\"\n",
    "while len(body) < body_parts_len:\n",
    "    letter = input(\"Enter: 'guess' to guess the word else, guess a letter\")\n",
    "    if letter.isdigit():\n",
    "        print(\"Hahaha, fool. A body part was added. Guess the WORD OR INDIVIDUAL LETTERS\")\n",
    "        body.append(body_parts.pop(0))\n",
    "        print(\"current body parts\", body)\n",
    "        continue\n",
    "    letter = letter.lower()\n",
    "    if letter == 'break':\n",
    "        break\n",
    "    if letter == 'guess':\n",
    "        guess_word = input(\"Alright, guess the word\")\n",
    "        if guess_word == word:\n",
    "            print (\"congratulations, you survived!\")\n",
    "            break\n",
    "        else:\n",
    "            body.append(body_parts.pop(0))\n",
    "            print(\"current body parts\", body)\n",
    "            if guess_word != word and len(body) == len(body_parts):\n",
    "                print( stick_figure)\n",
    "            continue\n",
    "\n",
    "    elif letter not in word:\n",
    "        body.append(body_parts.pop(0))\n",
    "        print(\"current body parts\", body)\n",
    "    else:\n",
    "        for i in range(len(word)):\n",
    "            if word[i] == letter:\n",
    "                printed_word[i] = letter\n",
    "        print(printed_word, 'current letters in the word that match the input letter')\n",
    "print(stick_figure, \"KO!\")\n",
    "        "
   ]
  },
  {
   "cell_type": "code",
   "execution_count": 56,
   "metadata": {},
   "outputs": [
    {
     "output_type": "stream",
     "name": "stdout",
     "text": [
      "   O --- \n ~-|-~ |\n _/ \\_ | \n      _|_  RIP\n"
     ]
    }
   ],
   "source": [
    "print(\"   O --- \\n ~-|-~ |\\n _/ \\_ | \\n      _|_  RIP\")"
   ]
  }
 ]
}