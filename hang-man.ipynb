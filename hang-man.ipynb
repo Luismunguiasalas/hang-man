{
 "metadata": {
  "language_info": {
   "codemirror_mode": {
    "name": "ipython",
    "version": 3
   },
   "file_extension": ".py",
   "mimetype": "text/x-python",
   "name": "python",
   "nbconvert_exporter": "python",
   "pygments_lexer": "ipython3",
   "version": "3.8.5-final"
  },
  "orig_nbformat": 2,
  "kernelspec": {
   "name": "python3",
   "display_name": "Python 3",
   "language": "python"
  }
 },
 "nbformat": 4,
 "nbformat_minor": 2,
 "cells": [
  {
   "cell_type": "code",
   "execution_count": 1,
   "metadata": {},
   "outputs": [
    {
     "output_type": "stream",
     "name": "stdout",
     "text": [
      "['a', '', '', '', '', '', '', '', '', ''] letters in word that match your letter\n",
      "['a', '', '', '', '', '', '', '', 'm', ''] letters in word that match your letter\n",
      "current bodoy parts collected ['O']\n",
      "['a', '', '', 'o', '', '', '', '', 'm', ''] letters in word that match your letter\n",
      "current bodoy parts collected ['O', '|']\n",
      "['a', '', '', 'o', '', 'i', '', '', 'm', ''] letters in word that match your letter\n"
     ]
    },
    {
     "output_type": "execute_result",
     "data": {
      "text/plain": [
       "'CONGRADULATIONS, you survived!'"
      ]
     },
     "metadata": {},
     "execution_count": 1
    }
   ],
   "source": [
    "import random\n",
    "\n",
    "random_word_list = [\"bag\",\"dog\",\"cat\",\"man\",\"woman\",\"bike\",\"car\",\"monster\",\"america\",\"princess\",\"pizza\",\"antidote\",\"potion\",\"blanket\",\"swim\",\"princess\",\"king\",\"elf\", 'ballon', \"texas\",\"washington\",\"california\",\"texas\",\"florida\",\"new york\",\"elephant\",\"tiger\",\"snake\",\"lion\",\"honda\",\"tower\", \"grass\", \"pink\",\"blue\",\"ocean\", \"television\",\"monarch\", \"coffee\", \"toaster\", \"pajamas\", \"macintosh\", \"microsoft\", \"variables\",\"functions\", \"datastructures\", \"algorithms\", \"loops\", \"string\", \"tires\", \"tacos\", \"spain\", \"mexico\",\"europe\",\"tokyo\", \"president\", \"google\", \"death\", \"life\", \"apple\",\"strawberry\", \"orange\", \"jupiter\", \"mars\", \"earth\", \"moon\", \"truck\",\"motorcycle\",\"turtle\", \"yellow\", \"snake\", \"horse\",\"nike\", \"rose\",\"spaghetti\", \"salad\", \"steak\", \"duck\", \"carpet\", \"testosterone\", \"feminine\",\"strong\",\"book\", \"dictionary\",\"toe\", \"foot\", \"banana\", \"iphone\", \"irrigation\", \"kids\", \"teenager\", \"donut\", \"panda\",\"voice\",\"family\",\"football\", \"soccer\", \"tennis\", \"thanksgiving\", \"diaper\", \"ninja\", \"green\", \"netflix\", \"hulu\", \"grandma\", \"wonderful\"]\n",
    "\n",
    "random_word = random.randint(0,len(random_word_list))\n",
    "\n",
    "def hangMan(word_to_guess):\n",
    "\n",
    "    word_visualization = [_] * len(word_to_guess)\n",
    "    stick_figure_body_parts_collected = []\n",
    "    stick_figure_body_parts = [\"O\", \"|\", \"/\", \"/\",\"~-\",\"-~\"]\n",
    "    count_of_body_parts = len(stick_figure_body_parts)\n",
    "    hung_stick_figure = \"   O --- \\n ~-|-~ |\\n _/ \\_ | \\n      _|_  RIP\"\n",
    "\n",
    "    while len(stick_figure_body_parts_collected) < count_of_body_parts:\n",
    "        guess = input(\"Enter: 'guess' to guess the entire word or, enter individual letters\")\n",
    "        guess = guess.lower()\n",
    "\n",
    "        # if guess.isdigit():\n",
    "        #     print(\"Hahaha, a body part was added. Guess the Word or Individual Letters\")\n",
    "        #     stick_figure_body_parts_collected.append(stick_figure_body_parts.pop(0))\n",
    "        #     print(\"Current body parts collected\", stick_figure_body_parts_collected)\n",
    "        #     continue\n",
    "\n",
    "        if guess == 'guess':\n",
    "            guess_word = input(\"Alright, guess the entire word..\")\n",
    "\n",
    "            if guess_word == word_to_guess:\n",
    "                return \"CONGRADULATIONS, you survived!\"\n",
    "\n",
    "            elif guess_word.isdigit():\n",
    "                stick_figure_body_parts_collected.append(stick_figure_body_parts.pop(0))\n",
    "                if len(stick_figure_body_parts_collected) == count_of_body_parts:\n",
    "                    return hung_stick_figure\n",
    "\n",
    "            else:\n",
    "                stick_figure_body_parts_collected.append(stick_figure_body_parts.pop(0))\n",
    "                print(\"current body parts collected\", stick_figure_body_parts_collected)\n",
    "                if len(stick_figure_body_parts_collected) == count_of_body_parts:\n",
    "                    return hung_stick_figure\n",
    "                continue\n",
    "\n",
    "        elif guess not in word_to_guess:\n",
    "            stick_figure_body_parts_collected.append(stick_figure_body_parts.pop(0))\n",
    "            print(\"current bodoy parts collected\", stick_figure_body_parts_collected)\n",
    "\n",
    "        else:\n",
    "            for i in range(len(word_to_guess)):\n",
    "                if word_to_guess[i] == guess:\n",
    "                    word_visualization[i] = guess\n",
    "            print(word_visualization, \"correct! letters in word that match your letter\")\n",
    "            \n",
    "    return hung_stick_figure\n",
    "\n",
    "hangMan(random_word_list[random_word])"
   ]
  },
  {
   "cell_type": "code",
   "execution_count": null,
   "metadata": {},
   "outputs": [],
   "source": [
    "word = \"banana\"\n",
    "printed_word = [_] * len(word)\n",
    "body = []\n",
    "body_parts = [\"O\", \"|\", \"/\", \"/\",\"~-\",\"-~\" ]\n",
    "body_parts_len = len(body_parts)\n",
    "stick_figure = \"   O --- \\n ~-|-~ |\\n _/ \\_ | \\n      _|_  RIP\"\n",
    "while len(body) < body_parts_len:\n",
    "    letter = input(\"Enter: 'guess' to guess the word else, guess a letter\")\n",
    "    if letter.isdigit():\n",
    "        print(\"Hahaha, fool. A body part was added. Guess the WORD OR INDIVIDUAL LETTERS\")\n",
    "        body.append(body_parts.pop(0))\n",
    "        print(\"current body parts\", body)\n",
    "        continue\n",
    "    letter = letter.lower()\n",
    "    if letter == 'break':\n",
    "        breaks\n",
    "    if letter == 'guess':\n",
    "        guess_word = input(\"Alright, guess the word\")\n",
    "        if guess_word == word:\n",
    "            print (\"congratulations, you survived!\")\n",
    "            break\n",
    "        else:\n",
    "            body.append(body_parts.pop(0))\n",
    "            print(\"current body parts\", body)\n",
    "            if guess_word != word and len(body) == len(body_parts):\n",
    "                print( stick_figure)\n",
    "            continue\n",
    "\n",
    "    elif letter not in word:\n",
    "        body.append(body_parts.pop(0))\n",
    "        print(\"current body parts\", body)\n",
    "    else:\n",
    "        for i in range(len(word)):\n",
    "            if word[i] == letter:\n",
    "                printed_word[i] = letter\n",
    "        print(printed_word, 'current letters in the word that match the input letter')\n",
    "print(stick_figure, \"KO!\")\n",
    "        "
   ]
  }
 ]
}