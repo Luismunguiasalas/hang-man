{
 "metadata": {
  "language_info": {
   "codemirror_mode": {
    "name": "ipython",
    "version": 3
   },
   "file_extension": ".py",
   "mimetype": "text/x-python",
   "name": "python",
   "nbconvert_exporter": "python",
   "pygments_lexer": "ipython3",
   "version": 3
  },
  "orig_nbformat": 2
 },
 "nbformat": 4,
 "nbformat_minor": 2,
 "cells": [
  {
   "cell_type": "code",
   "execution_count": null,
   "metadata": {},
   "outputs": [],
   "source": [
    "random_word_list = [\"bag\",\"dog\",\"cat\",\"man\",\"woman\",\"bike\",\"car\",\"monster\",\"america\",\"princess\",\"pizza\",\"antidote\",\"potion\",\"blanket\",\"swim\",\"princess\",\"king\",\"elf\", 'ballon', \"texas\",\"washington\",\"california\",\"texas\",\"florida\",\"new york\",\"elephant\",\"tiger\",\"snake\",\"lion\",\"honda\",\"tower\", \"grass\", \"pink\",\"blue\",\"ocean\", \"television\",\"monarch\", \"coffee\", \"toaster\", \"pajamas\", \"macintosh\", \"microsoft\", \"variables\",\"functions\", \"datastructures\", \"algorithms\", \"loops\", \"string\", \"tires\", \"tacos\", \"spain\", \"mexico\",\"europe\",\"tokyo\", \"president\", \"google\", \"death\", \"life\", \"apple\",\"strawberry\", \"orange\", \"jupiter\", \"mars\", \"earth\", \"moon\", \"truck\",\"motorcycle\",\"turtle\", \"yellow\", \"snake\", \"horse\",\"nike\", \"rose\",\"spaghetti\", \"salad\", \"steak\", \"duck\", \"carpet\", \"testosterone\", \"feminine\",\"strong\",\"book\", \"dictionary\",\"toe\", \"foot\", \"banana\", \"iphone\", \"irrigation\", \"kids\", \"teenager\", \"donut\", \"panda\",\"voice\",\"family\",\"football\", \"soccer\", \"tennis\", \"thanksgiving\", \"diaper\", \"ninja\", \"green\", \"netflix\", \"hulu\", \"grandma\", \"wonderful\"]\n",
    "\n",
    "\n",
    "\n",
    "\n",
    "\n"
   ]
  }
 ]
}